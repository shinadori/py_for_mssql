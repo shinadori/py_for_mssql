{
 "cells": [
  {
   "cell_type": "code",
   "execution_count": null,
   "id": "prospective-overhead",
   "metadata": {},
   "outputs": [],
   "source": [
    "dir()\n",
    "# test whether preload the modules"
   ]
  },
  {
   "cell_type": "code",
   "execution_count": null,
   "id": "unlike-extraction",
   "metadata": {
    "scrolled": false
   },
   "outputs": [],
   "source": [
    "try:\n",
    "    # replace with your database\n",
    "    with Sqldb('localhost').create_conn(\n",
    "            conn_db='test', conn_charset='utf8') as conn:\n",
    "        sql = 'SELECT TOP 10 * FROM cizu;'\n",
    "        result = sql_query(\n",
    "            conn, sql, to_file='D:\\\\test.xlsx', num_to_str=True,\n",
    "            as_dict=True, fetchall=True,\n",
    "            charset_cor_de='UTF8', charset_cor_en='UTF8')\n",
    "        print(result)\n",
    "except Exception as e:\n",
    "    print('Got error {!r}, Errno is {}'.format(e, e.args))\n",
    "    conn.close()"
   ]
  },
  {
   "cell_type": "code",
   "execution_count": null,
   "id": "median-slide",
   "metadata": {},
   "outputs": [],
   "source": []
  }
 ],
 "metadata": {
  "kernelspec": {
   "display_name": "Python 3",
   "language": "python",
   "name": "python3"
  },
  "language_info": {
   "codemirror_mode": {
    "name": "ipython",
    "version": 3
   },
   "file_extension": ".py",
   "mimetype": "text/x-python",
   "name": "python",
   "nbconvert_exporter": "python",
   "pygments_lexer": "ipython3",
   "version": "3.7.10"
  }
 },
 "nbformat": 4,
 "nbformat_minor": 5
}
